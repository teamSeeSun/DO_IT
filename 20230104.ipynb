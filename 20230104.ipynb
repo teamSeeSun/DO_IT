{
  "nbformat": 4,
  "nbformat_minor": 0,
  "metadata": {
    "colab": {
      "provenance": [],
      "mount_file_id": "1Fm1kwk5CXLIna9tUsWCG_OziI6aeHK-c",
      "authorship_tag": "ABX9TyOi2broqB/XSLmIpgEllYsi",
      "include_colab_link": true
    },
    "kernelspec": {
      "name": "python3",
      "display_name": "Python 3"
    },
    "language_info": {
      "name": "python"
    }
  },
  "cells": [
    {
      "cell_type": "markdown",
      "metadata": {
        "id": "view-in-github",
        "colab_type": "text"
      },
      "source": [
        "<a href=\"https://colab.research.google.com/github/yellow-peach-0/DO_IT/blob/main/20230104.ipynb\" target=\"_parent\"><img src=\"https://colab.research.google.com/assets/colab-badge.svg\" alt=\"Open In Colab\"/></a>"
      ]
    },
    {
      "cell_type": "code",
      "source": [
        "!pip install pingouin\n",
        "!pip install scikit_posthocs"
      ],
      "metadata": {
        "id": "b_bTyVEACip0"
      },
      "execution_count": null,
      "outputs": []
    },
    {
      "cell_type": "code",
      "execution_count": 77,
      "metadata": {
        "id": "DPMIKBOzCMN9"
      },
      "outputs": [],
      "source": [
        "from matplotlib import pyplot as plt\n",
        "from pandas import DataFrame\n",
        "import numpy as np\n",
        "import pandas as pd\n",
        "import math\n",
        "import sklearn.preprocessing \n",
        "from scipy import stats\n",
        "import pingouin as pg\n",
        "import scikit_posthocs\n",
        "import scipy as sp\n",
        "from statsmodels.formula.api import ols\n",
        "from statsmodels.stats.anova import anova_lm"
      ]
    },
    {
      "cell_type": "code",
      "source": [
        "body_df = pd.read_excel(\"/content/drive/MyDrive/파이썬 실습/실습 데이터/body_data_2017.xlsx\")"
      ],
      "metadata": {
        "id": "JycTTiE4C3B5"
      },
      "execution_count": 78,
      "outputs": []
    },
    {
      "cell_type": "code",
      "source": [
        "print(body_df.columns)"
      ],
      "metadata": {
        "id": "Uy-vGRjFEQ-d"
      },
      "execution_count": null,
      "outputs": []
    },
    {
      "cell_type": "markdown",
      "source": [
        "#연령대별로 체지방률이 다를까?"
      ],
      "metadata": {
        "id": "m2LggR6ZIAI5"
      }
    },
    {
      "cell_type": "markdown",
      "source": [
        "일단 데이터를 불러와준 뒤 나이대 별로 집합을 나눠주자"
      ],
      "metadata": {
        "id": "eVHroQAO_8gb"
      }
    },
    {
      "cell_type": "code",
      "source": [
        "fat_age = pd.DataFrame(body_df[[\"ⓞ_06_나이_반올림\",\"ⓞ_18_체지방율\"]])\n",
        "age = fat_age[\"ⓞ_06_나이_반올림\"]\n",
        "fat = fat_age[\"ⓞ_18_체지방율\"]\n",
        "\n",
        "\n",
        "fat_10 = fat_age[(age>=10)&(age<20)]\n",
        "fat_20 = fat_age[(age>=20)&(age<30)]\n",
        "fat_30 = fat_age[(age>=30)&(age<40)]\n",
        "fat_40 = fat_age[(age>=40)&(age<50)]\n",
        "fat_50 = fat_age[(age>=50)&(age<60)]\n",
        "fat_60 = fat_age[(age>=60)&(age<70)]\n",
        "\n",
        "fat_10.columns = [\"age\", \"fat\"]\n",
        "fat_20.columns = [\"age\", \"fat\"]\n",
        "fat_30.columns = [\"age\", \"fat\"]\n",
        "fat_40.columns = [\"age\", \"fat\"]\n",
        "fat_50.columns = [\"age\", \"fat\"]\n",
        "fat_60.columns = [\"age\", \"fat\"]\n"
      ],
      "metadata": {
        "id": "dRSTTxQJgvEh"
      },
      "execution_count": 212,
      "outputs": []
    },
    {
      "cell_type": "markdown",
      "source": [
        "결측값을 제거해줍시다."
      ],
      "metadata": {
        "id": "uNmNXTKnAGL1"
      }
    },
    {
      "cell_type": "code",
      "source": [
        "#NaN\n",
        "fat_10 = fat_10.dropna(axis=0)\n",
        "fat_20 = fat_20.dropna(axis=0)\n",
        "fat_30 = fat_30.dropna(axis=0)\n",
        "fat_40 = fat_40.dropna(axis=0)\n",
        "fat_50 = fat_50.dropna(axis=0)\n",
        "fat_60 = fat_60.dropna(axis=0)\n",
        "\n",
        "print(fat_10.isnull().sum())\n",
        "print(fat_20.isnull().sum())\n",
        "print(fat_30.isnull().sum())\n",
        "print(fat_40.isnull().sum())\n",
        "print(fat_50.isnull().sum())\n",
        "print(fat_60.isnull().sum())"
      ],
      "metadata": {
        "id": "KxwWCPwj1kop"
      },
      "execution_count": null,
      "outputs": []
    },
    {
      "cell_type": "markdown",
      "source": [
        "연령대 별로 범주 코딩해주기"
      ],
      "metadata": {
        "id": "HDbCRMdaAKd-"
      }
    },
    {
      "cell_type": "code",
      "source": [
        "#연령대 coding\n",
        "fat_10[\"연령대\"] = 10\n",
        "fat_20[\"연령대\"] = 20\n",
        "fat_30[\"연령대\"] = 30\n",
        "fat_40[\"연령대\"] = 40\n",
        "fat_50[\"연령대\"] = 50\n",
        "fat_60[\"연령대\"] = 60"
      ],
      "metadata": {
        "id": "C9FZE-G96ZbG"
      },
      "execution_count": 226,
      "outputs": []
    },
    {
      "cell_type": "code",
      "source": [
        "#합쳐주기\n",
        "fat_age = pd.concat([fat_10, fat_20, fat_30, fat_40, fat_50, fat_60])"
      ],
      "metadata": {
        "id": "gBCS0PEF636K"
      },
      "execution_count": 244,
      "outputs": []
    },
    {
      "cell_type": "markdown",
      "source": [
        "일단 등분산을 검정해봅시다."
      ],
      "metadata": {
        "id": "XnK3aQ_dAYWl"
      }
    },
    {
      "cell_type": "code",
      "source": [
        "#등분산검정\n",
        "sp.stats.levene(fat_10[\"fat\"], fat_20[\"fat\"], fat_30[\"fat\"], fat_40[\"fat\"], fat_50[\"fat\"], fat_60[\"fat\"])"
      ],
      "metadata": {
        "colab": {
          "base_uri": "https://localhost:8080/"
        },
        "id": "wdHcDamFk0l0",
        "outputId": "1836f8ae-f595-422b-a880-aa978012467e"
      },
      "execution_count": 231,
      "outputs": [
        {
          "output_type": "execute_result",
          "data": {
            "text/plain": [
              "LeveneResult(statistic=34.61853183337501, pvalue=4.848505944690565e-35)"
            ]
          },
          "metadata": {},
          "execution_count": 231
        }
      ]
    },
    {
      "cell_type": "markdown",
      "source": [
        "등분산검정 결과, pvalue=4.848505944690565e-35로 등분산이 아닌걸로 밝혀졌다. </br>\n",
        "등분산이 아니므로 아래에선 welch 분산 분석을 하도록하자."
      ],
      "metadata": {
        "id": "TUDx29jH8c4W"
      }
    },
    {
      "cell_type": "code",
      "source": [
        "#ANOVA\n",
        "pg.welch_anova(dv=\"fat\", between=\"연령대\", data = fat_age)"
      ],
      "metadata": {
        "colab": {
          "base_uri": "https://localhost:8080/",
          "height": 80
        },
        "id": "hEaDel7i3cWk",
        "outputId": "06b7a3d6-7a60-4c6e-856c-0ecb9b8c3a48"
      },
      "execution_count": 245,
      "outputs": [
        {
          "output_type": "execute_result",
          "data": {
            "text/plain": [
              "  Source  ddof1        ddof2          F         p-unc       np2\n",
              "0    연령대      5  1935.016699  69.028919  1.461123e-66  0.048121"
            ],
            "text/html": [
              "\n",
              "  <div id=\"df-9e001fe6-27be-48dd-9cd6-e571074d7310\">\n",
              "    <div class=\"colab-df-container\">\n",
              "      <div>\n",
              "<style scoped>\n",
              "    .dataframe tbody tr th:only-of-type {\n",
              "        vertical-align: middle;\n",
              "    }\n",
              "\n",
              "    .dataframe tbody tr th {\n",
              "        vertical-align: top;\n",
              "    }\n",
              "\n",
              "    .dataframe thead th {\n",
              "        text-align: right;\n",
              "    }\n",
              "</style>\n",
              "<table border=\"1\" class=\"dataframe\">\n",
              "  <thead>\n",
              "    <tr style=\"text-align: right;\">\n",
              "      <th></th>\n",
              "      <th>Source</th>\n",
              "      <th>ddof1</th>\n",
              "      <th>ddof2</th>\n",
              "      <th>F</th>\n",
              "      <th>p-unc</th>\n",
              "      <th>np2</th>\n",
              "    </tr>\n",
              "  </thead>\n",
              "  <tbody>\n",
              "    <tr>\n",
              "      <th>0</th>\n",
              "      <td>연령대</td>\n",
              "      <td>5</td>\n",
              "      <td>1935.016699</td>\n",
              "      <td>69.028919</td>\n",
              "      <td>1.461123e-66</td>\n",
              "      <td>0.048121</td>\n",
              "    </tr>\n",
              "  </tbody>\n",
              "</table>\n",
              "</div>\n",
              "      <button class=\"colab-df-convert\" onclick=\"convertToInteractive('df-9e001fe6-27be-48dd-9cd6-e571074d7310')\"\n",
              "              title=\"Convert this dataframe to an interactive table.\"\n",
              "              style=\"display:none;\">\n",
              "        \n",
              "  <svg xmlns=\"http://www.w3.org/2000/svg\" height=\"24px\"viewBox=\"0 0 24 24\"\n",
              "       width=\"24px\">\n",
              "    <path d=\"M0 0h24v24H0V0z\" fill=\"none\"/>\n",
              "    <path d=\"M18.56 5.44l.94 2.06.94-2.06 2.06-.94-2.06-.94-.94-2.06-.94 2.06-2.06.94zm-11 1L8.5 8.5l.94-2.06 2.06-.94-2.06-.94L8.5 2.5l-.94 2.06-2.06.94zm10 10l.94 2.06.94-2.06 2.06-.94-2.06-.94-.94-2.06-.94 2.06-2.06.94z\"/><path d=\"M17.41 7.96l-1.37-1.37c-.4-.4-.92-.59-1.43-.59-.52 0-1.04.2-1.43.59L10.3 9.45l-7.72 7.72c-.78.78-.78 2.05 0 2.83L4 21.41c.39.39.9.59 1.41.59.51 0 1.02-.2 1.41-.59l7.78-7.78 2.81-2.81c.8-.78.8-2.07 0-2.86zM5.41 20L4 18.59l7.72-7.72 1.47 1.35L5.41 20z\"/>\n",
              "  </svg>\n",
              "      </button>\n",
              "      \n",
              "  <style>\n",
              "    .colab-df-container {\n",
              "      display:flex;\n",
              "      flex-wrap:wrap;\n",
              "      gap: 12px;\n",
              "    }\n",
              "\n",
              "    .colab-df-convert {\n",
              "      background-color: #E8F0FE;\n",
              "      border: none;\n",
              "      border-radius: 50%;\n",
              "      cursor: pointer;\n",
              "      display: none;\n",
              "      fill: #1967D2;\n",
              "      height: 32px;\n",
              "      padding: 0 0 0 0;\n",
              "      width: 32px;\n",
              "    }\n",
              "\n",
              "    .colab-df-convert:hover {\n",
              "      background-color: #E2EBFA;\n",
              "      box-shadow: 0px 1px 2px rgba(60, 64, 67, 0.3), 0px 1px 3px 1px rgba(60, 64, 67, 0.15);\n",
              "      fill: #174EA6;\n",
              "    }\n",
              "\n",
              "    [theme=dark] .colab-df-convert {\n",
              "      background-color: #3B4455;\n",
              "      fill: #D2E3FC;\n",
              "    }\n",
              "\n",
              "    [theme=dark] .colab-df-convert:hover {\n",
              "      background-color: #434B5C;\n",
              "      box-shadow: 0px 1px 3px 1px rgba(0, 0, 0, 0.15);\n",
              "      filter: drop-shadow(0px 1px 2px rgba(0, 0, 0, 0.3));\n",
              "      fill: #FFFFFF;\n",
              "    }\n",
              "  </style>\n",
              "\n",
              "      <script>\n",
              "        const buttonEl =\n",
              "          document.querySelector('#df-9e001fe6-27be-48dd-9cd6-e571074d7310 button.colab-df-convert');\n",
              "        buttonEl.style.display =\n",
              "          google.colab.kernel.accessAllowed ? 'block' : 'none';\n",
              "\n",
              "        async function convertToInteractive(key) {\n",
              "          const element = document.querySelector('#df-9e001fe6-27be-48dd-9cd6-e571074d7310');\n",
              "          const dataTable =\n",
              "            await google.colab.kernel.invokeFunction('convertToInteractive',\n",
              "                                                     [key], {});\n",
              "          if (!dataTable) return;\n",
              "\n",
              "          const docLinkHtml = 'Like what you see? Visit the ' +\n",
              "            '<a target=\"_blank\" href=https://colab.research.google.com/notebooks/data_table.ipynb>data table notebook</a>'\n",
              "            + ' to learn more about interactive tables.';\n",
              "          element.innerHTML = '';\n",
              "          dataTable['output_type'] = 'display_data';\n",
              "          await google.colab.output.renderOutput(dataTable, element);\n",
              "          const docLink = document.createElement('div');\n",
              "          docLink.innerHTML = docLinkHtml;\n",
              "          element.appendChild(docLink);\n",
              "        }\n",
              "      </script>\n",
              "    </div>\n",
              "  </div>\n",
              "  "
            ]
          },
          "metadata": {},
          "execution_count": 245
        }
      ]
    },
    {
      "cell_type": "markdown",
      "source": [
        "p-value: 1.461123e-66으로 다른 것으로 확인 되었다. 그렇다면 연령대가 높을 수록 체지방률도 높을까?"
      ],
      "metadata": {
        "id": "Y89xwZnr8Rd3"
      }
    },
    {
      "cell_type": "markdown",
      "source": [
        "# 나이 먹을수록 살찌는게 사실일까?..."
      ],
      "metadata": {
        "id": "wXD0PjSZ_YbE"
      }
    },
    {
      "cell_type": "markdown",
      "source": [
        "일단 산점도를 살펴보자."
      ],
      "metadata": {
        "id": "lz9M2dNz_5ML"
      }
    },
    {
      "cell_type": "code",
      "source": [
        "#scatter\n",
        "plt.scatter(fat_age[\"age\"], fat_age[\"fat\"], alpha=0.3)\n",
        "plt.title('age ~ fat')\n",
        "plt.xlabel('age')\n",
        "plt.ylabel('fat')\n",
        "plt.show()"
      ],
      "metadata": {
        "colab": {
          "base_uri": "https://localhost:8080/",
          "height": 295
        },
        "id": "yId0SgN9_i_j",
        "outputId": "61340b66-0cd2-4609-f4f7-0147496562d3"
      },
      "execution_count": 249,
      "outputs": [
        {
          "output_type": "display_data",
          "data": {
            "text/plain": [
              "<Figure size 432x288 with 1 Axes>"
            ],
            "image/png": "[encoded data removed]"
          },
          "metadata": {
            "needs_background": "light"
          }
        }
      ]
    },
    {
      "cell_type": "markdown",
      "source": [
        "있어보인다,, 아주 살짝 우상향향? </br>\n",
        "바로 회귀분석 해보겠음."
      ],
      "metadata": {
        "id": "sdePTOr9BkUt"
      }
    },
    {
      "cell_type": "code",
      "source": [
        "#회귀분석\n",
        "x = fat_age[\"age\"]\n",
        "y = fat_age[\"fat\"]\n",
        "\n",
        "res = ols('y ~ x', data= fat_age).fit()\n",
        "res.summary()"
      ],
      "metadata": {
        "colab": {
          "base_uri": "https://localhost:8080/",
          "height": 444
        },
        "id": "LIA1I9XGBXnQ",
        "outputId": "84d1bfb2-1e1f-43d2-95d8-97d65c5da3a7"
      },
      "execution_count": 251,
      "outputs": [
        {
          "output_type": "execute_result",
          "data": {
            "text/plain": [
              "<class 'statsmodels.iolib.summary.Summary'>\n",
              "\"\"\"\n",
              "                            OLS Regression Results                            \n",
              "==============================================================================\n",
              "Dep. Variable:                      y   R-squared:                       0.048\n",
              "Model:                            OLS   Adj. R-squared:                  0.047\n",
              "Method:                 Least Squares   F-statistic:                     319.2\n",
              "Date:                Wed, 04 Jan 2023   Prob (F-statistic):           1.03e-69\n",
              "Time:                        04:27:13   Log-Likelihood:                -22830.\n",
              "No. Observations:                6402   AIC:                         4.566e+04\n",
              "Df Residuals:                    6400   BIC:                         4.568e+04\n",
              "Df Model:                           1                                         \n",
              "Covariance Type:            nonrobust                                         \n",
              "==============================================================================\n",
              "                 coef    std err          t      P>|t|      [0.025      0.975]\n",
              "------------------------------------------------------------------------------\n",
              "Intercept     20.6546      0.257     80.439      0.000      20.151      21.158\n",
              "x              0.1329      0.007     17.867      0.000       0.118       0.148\n",
              "==============================================================================\n",
              "Omnibus:                     1263.597   Durbin-Watson:                   1.139\n",
              "Prob(Omnibus):                  0.000   Jarque-Bera (JB):            14201.038\n",
              "Skew:                           0.615   Prob(JB):                         0.00\n",
              "Kurtosis:                      10.192   Cond. No.                         82.9\n",
              "==============================================================================\n",
              "\n",
              "Notes:\n",
              "[1] Standard Errors assume that the covariance matrix of the errors is correctly specified.\n",
              "\"\"\""
            ],
            "text/html": [
              "<table class=\"simpletable\">\n",
              "<caption>OLS Regression Results</caption>\n",
              "<tr>\n",
              "  <th>Dep. Variable:</th>            <td>y</td>        <th>  R-squared:         </th> <td>   0.048</td> \n",
              "</tr>\n",
              "<tr>\n",
              "  <th>Model:</th>                   <td>OLS</td>       <th>  Adj. R-squared:    </th> <td>   0.047</td> \n",
              "</tr>\n",
              "<tr>\n",
              "  <th>Method:</th>             <td>Least Squares</td>  <th>  F-statistic:       </th> <td>   319.2</td> \n",
              "</tr>\n",
              "<tr>\n",
              "  <th>Date:</th>             <td>Wed, 04 Jan 2023</td> <th>  Prob (F-statistic):</th> <td>1.03e-69</td> \n",
              "</tr>\n",
              "<tr>\n",
              "  <th>Time:</th>                 <td>04:27:13</td>     <th>  Log-Likelihood:    </th> <td> -22830.</td> \n",
              "</tr>\n",
              "<tr>\n",
              "  <th>No. Observations:</th>      <td>  6402</td>      <th>  AIC:               </th> <td>4.566e+04</td>\n",
              "</tr>\n",
              "<tr>\n",
              "  <th>Df Residuals:</th>          <td>  6400</td>      <th>  BIC:               </th> <td>4.568e+04</td>\n",
              "</tr>\n",
              "<tr>\n",
              "  <th>Df Model:</th>              <td>     1</td>      <th>                     </th>     <td> </td>    \n",
              "</tr>\n",
              "<tr>\n",
              "  <th>Covariance Type:</th>      <td>nonrobust</td>    <th>                     </th>     <td> </td>    \n",
              "</tr>\n",
              "</table>\n",
              "<table class=\"simpletable\">\n",
              "<tr>\n",
              "      <td></td>         <th>coef</th>     <th>std err</th>      <th>t</th>      <th>P>|t|</th>  <th>[0.025</th>    <th>0.975]</th>  \n",
              "</tr>\n",
              "<tr>\n",
              "  <th>Intercept</th> <td>   20.6546</td> <td>    0.257</td> <td>   80.439</td> <td> 0.000</td> <td>   20.151</td> <td>   21.158</td>\n",
              "</tr>\n",
              "<tr>\n",
              "  <th>x</th>         <td>    0.1329</td> <td>    0.007</td> <td>   17.867</td> <td> 0.000</td> <td>    0.118</td> <td>    0.148</td>\n",
              "</tr>\n",
              "</table>\n",
              "<table class=\"simpletable\">\n",
              "<tr>\n",
              "  <th>Omnibus:</th>       <td>1263.597</td> <th>  Durbin-Watson:     </th> <td>   1.139</td> \n",
              "</tr>\n",
              "<tr>\n",
              "  <th>Prob(Omnibus):</th>  <td> 0.000</td>  <th>  Jarque-Bera (JB):  </th> <td>14201.038</td>\n",
              "</tr>\n",
              "<tr>\n",
              "  <th>Skew:</th>           <td> 0.615</td>  <th>  Prob(JB):          </th> <td>    0.00</td> \n",
              "</tr>\n",
              "<tr>\n",
              "  <th>Kurtosis:</th>       <td>10.192</td>  <th>  Cond. No.          </th> <td>    82.9</td> \n",
              "</tr>\n",
              "</table><br/><br/>Notes:<br/>[1] Standard Errors assume that the covariance matrix of the errors is correctly specified."
            ]
          },
          "metadata": {},
          "execution_count": 251
        }
      ]
    },
    {
      "cell_type": "markdown",
      "source": [
        "회귀분석 결과 회귀계수 0.1329로 나왔다, </br>\n",
        "아주 조금이지만, 나이살이 있는 듯 하다...</br>\n",
        "그래프로 확인사살 해보자."
      ],
      "metadata": {
        "id": "Y3TbOHTICZJ1"
      }
    },
    {
      "cell_type": "code",
      "source": [
        "#liner graph\n",
        "x = fat_age[\"age\"]\n",
        "y = fat_age[\"fat\"]\n",
        "plt.scatter(x, y, alpha=0.1)\n",
        "plt.title('age ~ fat')\n",
        "plt.xlabel('age')\n",
        "plt.ylabel('fat')\n",
        "\n",
        "m, b = np.polyfit(x, y, 1)\n",
        "plt.plot(x, m*x+b, color='limegreen')\n",
        "plt.show()"
      ],
      "metadata": {
        "colab": {
          "base_uri": "https://localhost:8080/",
          "height": 295
        },
        "id": "DkgSzKorEZnT",
        "outputId": "723f3161-f278-4643-ab36-2d95cb249808"
      },
      "execution_count": 269,
      "outputs": [
        {
          "output_type": "display_data",
          "data": {
            "text/plain": [
              "<Figure size 432x288 with 1 Axes>"
            ],
            "image/png": "[encoded data removed]"
          },
          "metadata": {
            "needs_background": "light"
          }
        }
      ]
    },
    {
      "cell_type": "markdown",
      "source": [
        "확인사살 완료."
      ],
      "metadata": {
        "id": "ca8HhUdqFuiu"
      }
    }
  ]
}