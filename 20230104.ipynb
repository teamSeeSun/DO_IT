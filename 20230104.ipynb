{
  "nbformat": 4,
  "nbformat_minor": 0,
  "metadata": {
    "colab": {
      "provenance": [],
      "mount_file_id": "1Fm1kwk5CXLIna9tUsWCG_OziI6aeHK-c",
      "authorship_tag": "ABX9TyPkSnTrmBu7VAJb70COtF46",
      "include_colab_link": true
    },
    "kernelspec": {
      "name": "python3",
      "display_name": "Python 3"
    },
    "language_info": {
      "name": "python"
    }
  },
  "cells": [
    {
      "cell_type": "markdown",
      "metadata": {
        "id": "view-in-github",
        "colab_type": "text"
      },
      "source": [
        "<a href=\"https://colab.research.google.com/github/yellow-peach-0/DO_IT/blob/main/20230104.ipynb\" target=\"_parent\"><img src=\"https://colab.research.google.com/assets/colab-badge.svg\" alt=\"Open In Colab\"/></a>"
      ]
    },
    {
      "cell_type": "code",
      "source": [
        "!pip install pingouin\n",
        "!pip install scikit_posthocs"
      ],
      "metadata": {
        "id": "b_bTyVEACip0"
      },
      "execution_count": null,
      "outputs": []
    },
    {
      "cell_type": "code",
      "execution_count": 77,
      "metadata": {
        "id": "DPMIKBOzCMN9"
      },
      "outputs": [],
      "source": [
        "from matplotlib import pyplot as plt\n",
        "from pandas import DataFrame\n",
        "import numpy as np\n",
        "import pandas as pd\n",
        "import math\n",
        "import sklearn.preprocessing \n",
        "from scipy import stats\n",
        "import pingouin as pg\n",
        "import scikit_posthocs\n",
        "import scipy as sp\n",
        "from statsmodels.formula.api import ols\n",
        "from statsmodels.stats.anova import anova_lm"
      ]
    },
    {
      "cell_type": "code",
      "source": [
        "body_df = pd.read_excel(\"/content/drive/MyDrive/파이썬 실습/실습 데이터/body_data_2017.xlsx\")"
      ],
      "metadata": {
        "id": "JycTTiE4C3B5"
      },
      "execution_count": 78,
      "outputs": []
    },
    {
      "cell_type": "code",
      "source": [
        "print(body_df.columns)"
      ],
      "metadata": {
        "colab": {
          "base_uri": "https://localhost:8080/"
        },
        "id": "Uy-vGRjFEQ-d",
        "outputId": "011643ba-ef97-44f0-8f6e-cbef494ef029"
      },
      "execution_count": 80,
      "outputs": [
        {
          "output_type": "stream",
          "name": "stdout",
          "text": [
            "Index(['ⓞ_02_성별', 'ⓞ_06_나이_반올림', 'ⓞ_12_골격근량', 'ⓞ_13_체지방량', 'ⓞ_14_체수분',\n",
            "       'ⓞ_15_단백질', 'ⓞ_16_무기질', 'ⓞ_17_BMI', 'ⓞ_18_체지방율', 'ⓞ_19_복부지방율',\n",
            "       ...\n",
            "       '①_124_무릎아래둘레', '①_125_장딴지둘레', '①_126_종아리최소둘레', '①_127_발목최대둘레',\n",
            "       '①_128_발목너비', '①_129_발뒤꿈치너비', '①_130_위팔둘레', '①_131_팔꿈치둘레', '①_132_손목둘레',\n",
            "       '①_133_머리위로뻗은주먹높이'],\n",
            "      dtype='object', length=148)\n"
          ]
        }
      ]
    },
    {
      "cell_type": "markdown",
      "source": [
        "#체지방률이 높으면 배둘레가 클까?\n",
        ": 이건 사실, t검정이 아닌 상관관계 분석을 하는게 맞음, </br>\n",
        "왜냐하면 t검정은 두집단간 동일 변수 차이를 검정하는 것이기 때문"
      ],
      "metadata": {
        "id": "AmACLy2XEiHH"
      }
    },
    {
      "cell_type": "code",
      "source": [
        "fat = pd.DataFrame(body_df[\"ⓞ_18_체지방율\"])\n",
        "belly = pd.DataFrame(body_df[\"①_044_배둘레\"])\n",
        "\n",
        "fat.columns = [\"fat\"]\n",
        "belly.columns = [\"belly\"]"
      ],
      "metadata": {
        "id": "DwghD8vLJSfX"
      },
      "execution_count": 81,
      "outputs": []
    },
    {
      "cell_type": "code",
      "source": [
        "print(len(fat))\n",
        "print(len(belly))"
      ],
      "metadata": {
        "colab": {
          "base_uri": "https://localhost:8080/"
        },
        "id": "u9ylTexzbcLb",
        "outputId": "9b1cc2d8-a571-41ec-dff8-4ea32d6568f9"
      },
      "execution_count": 130,
      "outputs": [
        {
          "output_type": "stream",
          "name": "stdout",
          "text": [
            "6420\n",
            "6420\n"
          ]
        }
      ]
    },
    {
      "cell_type": "code",
      "source": [
        "#IQR, Outlier\n",
        "fat_Q1 = fat.quantile(q=0.25)\n",
        "fat_Q3 = fat.quantile(q=0.75)\n",
        "fat_IQR_range = fat_Q3 - fat_Q1\n",
        "\n",
        "belly_Q1 = belly.quantile(q=0.25)\n",
        "belly_Q3 = belly.quantile(q=0.75)\n",
        "belly_IQR_range = belly_Q3 - belly_Q1\n",
        "\n",
        "\n",
        "fat_IQR = fat[(fat < fat_Q3 + fat_IQR_range*1.5) & (fat > fat_Q1 - fat_IQR_range*1.5)]\n",
        "belly_IQR = belly[(belly < belly_Q3 + belly_IQR_range*1.5) & (belly > belly_Q1 - belly_IQR_range*1.5)]\n",
        "\n",
        "fat = fat_IQR\n",
        "belly = belly_IQR"
      ],
      "metadata": {
        "id": "b8Gc0hc0OWKv"
      },
      "execution_count": 101,
      "outputs": []
    },
    {
      "cell_type": "code",
      "source": [
        "#정규화\n",
        "scaler = sklearn.preprocessing.MinMaxScaler()\n",
        "fat = scaler.fit_transform(fat)\n",
        "fat = pd.DataFrame(fat)\n",
        "\n",
        "belly = scaler.fit_transform(belly)\n",
        "belly = pd.DataFrame(belly)\n",
        "\n",
        "print(fat)\n",
        "print(belly)"
      ],
      "metadata": {
        "id": "KmZd3o8dOXzG"
      },
      "execution_count": null,
      "outputs": []
    },
    {
      "cell_type": "code",
      "source": [
        "#NaN?\n",
        "print(\"before NaN delete\")\n",
        "print(fat.isnull().sum())\n",
        "print(belly.isnull().sum())\n",
        "\n",
        "fat[0]\n",
        "belly[0]\n",
        "\n",
        "print(\"\\n ---------------------\")\n",
        "print(\"after NaN delete\")\n",
        "print(fat.isnull().sum())\n",
        "print(belly.isnull().sum())"
      ],
      "metadata": {
        "id": "-8I9v65CSNy3"
      },
      "execution_count": null,
      "outputs": []
    },
    {
      "cell_type": "code",
      "source": [
        "#t-test\n",
        "print(stats.ttest_ind(fat.dropna()[0], belly.dropna()[0], equal_var=False))"
      ],
      "metadata": {
        "colab": {
          "base_uri": "https://localhost:8080/"
        },
        "id": "Eq_FuyHtUohp",
        "outputId": "17caed1d-91b0-4139-f6e3-1a3c376b502a"
      },
      "execution_count": 96,
      "outputs": [
        {
          "output_type": "stream",
          "name": "stdout",
          "text": [
            "Ttest_indResult(statistic=-97.34304451455982, pvalue=0.0)\n"
          ]
        }
      ]
    },
    {
      "cell_type": "markdown",
      "source": [
        "Ttest_indResult(statistic=nan, pvalue=nan) </br>\n",
        ": 데이터에 결측값있으면 이렇게 오류가 뜨기도한다... \n",
        "\n"
      ],
      "metadata": {
        "id": "nCnWdByYIazk"
      }
    },
    {
      "cell_type": "code",
      "source": [
        "#산점도 시각화\n",
        "plt.scatter(fat, belly, alpha=0.5)\n",
        "plt.title('fat ~ belly')\n",
        "plt.xlabel('fat')\n",
        "plt.ylabel('belly')\n",
        "plt.show()"
      ],
      "metadata": {
        "colab": {
          "base_uri": "https://localhost:8080/",
          "height": 295
        },
        "id": "NEoNwWN1UWK9",
        "outputId": "1041bd10-9929-465a-c3a3-e88460ddf62f"
      },
      "execution_count": 238,
      "outputs": [
        {
          "output_type": "display_data",
          "data": {
            "text/plain": [
              "<Figure size 432x288 with 1 Axes>"
            ],
            "image/png": "[encoded data removed]"
          },
          "metadata": {
            "needs_background": "light"
          }
        }
      ]
    },
    {
      "cell_type": "code",
      "source": [
        "#공분산\n",
        "np.cov(fat, belly)[0,1]"
      ],
      "metadata": {
        "colab": {
          "base_uri": "https://localhost:8080/",
          "height": 402
        },
        "id": "DyeD6u5-U4nz",
        "outputId": "e23fcb2d-f05e-4d21-fd08-3c226ec83a2a"
      },
      "execution_count": 222,
      "outputs": [
        {
          "output_type": "error",
          "ename": "ValueError",
          "evalue": "ignored",
          "traceback": [
            "\u001b[0;31m---------------------------------------------------------------------------\u001b[0m",
            "\u001b[0;31mValueError\u001b[0m                                Traceback (most recent call last)",
            "\u001b[0;32m<ipython-input-222-9453aa77b9c0>\u001b[0m in \u001b[0;36m<module>\u001b[0;34m\u001b[0m\n\u001b[1;32m      1\u001b[0m \u001b[0;31m#공분산\u001b[0m\u001b[0;34m\u001b[0m\u001b[0;34m\u001b[0m\u001b[0;34m\u001b[0m\u001b[0m\n\u001b[0;32m----> 2\u001b[0;31m \u001b[0mnp\u001b[0m\u001b[0;34m.\u001b[0m\u001b[0mcov\u001b[0m\u001b[0;34m(\u001b[0m\u001b[0mfat\u001b[0m\u001b[0;34m,\u001b[0m \u001b[0mbelly\u001b[0m\u001b[0;34m)\u001b[0m\u001b[0;34m[\u001b[0m\u001b[0;36m0\u001b[0m\u001b[0;34m,\u001b[0m\u001b[0;36m1\u001b[0m\u001b[0;34m]\u001b[0m\u001b[0;34m\u001b[0m\u001b[0;34m\u001b[0m\u001b[0m\n\u001b[0m",
            "\u001b[0;32m<__array_function__ internals>\u001b[0m in \u001b[0;36mcov\u001b[0;34m(*args, **kwargs)\u001b[0m\n",
            "\u001b[0;32m/usr/local/lib/python3.8/dist-packages/numpy/lib/function_base.py\u001b[0m in \u001b[0;36mcov\u001b[0;34m(m, y, rowvar, bias, ddof, fweights, aweights, dtype)\u001b[0m\n\u001b[1;32m   2475\u001b[0m         \u001b[0;32mif\u001b[0m \u001b[0;32mnot\u001b[0m \u001b[0mrowvar\u001b[0m \u001b[0;32mand\u001b[0m \u001b[0my\u001b[0m\u001b[0;34m.\u001b[0m\u001b[0mshape\u001b[0m\u001b[0;34m[\u001b[0m\u001b[0;36m0\u001b[0m\u001b[0;34m]\u001b[0m \u001b[0;34m!=\u001b[0m \u001b[0;36m1\u001b[0m\u001b[0;34m:\u001b[0m\u001b[0;34m\u001b[0m\u001b[0;34m\u001b[0m\u001b[0m\n\u001b[1;32m   2476\u001b[0m             \u001b[0my\u001b[0m \u001b[0;34m=\u001b[0m \u001b[0my\u001b[0m\u001b[0;34m.\u001b[0m\u001b[0mT\u001b[0m\u001b[0;34m\u001b[0m\u001b[0;34m\u001b[0m\u001b[0m\n\u001b[0;32m-> 2477\u001b[0;31m         \u001b[0mX\u001b[0m \u001b[0;34m=\u001b[0m \u001b[0mnp\u001b[0m\u001b[0;34m.\u001b[0m\u001b[0mconcatenate\u001b[0m\u001b[0;34m(\u001b[0m\u001b[0;34m(\u001b[0m\u001b[0mX\u001b[0m\u001b[0;34m,\u001b[0m \u001b[0my\u001b[0m\u001b[0;34m)\u001b[0m\u001b[0;34m,\u001b[0m \u001b[0maxis\u001b[0m\u001b[0;34m=\u001b[0m\u001b[0;36m0\u001b[0m\u001b[0;34m)\u001b[0m\u001b[0;34m\u001b[0m\u001b[0;34m\u001b[0m\u001b[0m\n\u001b[0m\u001b[1;32m   2478\u001b[0m \u001b[0;34m\u001b[0m\u001b[0m\n\u001b[1;32m   2479\u001b[0m     \u001b[0;32mif\u001b[0m \u001b[0mddof\u001b[0m \u001b[0;32mis\u001b[0m \u001b[0;32mNone\u001b[0m\u001b[0;34m:\u001b[0m\u001b[0;34m\u001b[0m\u001b[0;34m\u001b[0m\u001b[0m\n",
            "\u001b[0;32m<__array_function__ internals>\u001b[0m in \u001b[0;36mconcatenate\u001b[0;34m(*args, **kwargs)\u001b[0m\n",
            "\u001b[0;31mValueError\u001b[0m: all the input array dimensions for the concatenation axis must match exactly, but along dimension 1, the array at index 0 has size 6420 and the array at index 1 has size 1"
          ]
        }
      ]
    },
    {
      "cell_type": "code",
      "source": [
        "#상관계수\n",
        "np.corrcoef(fat, belly)"
      ],
      "metadata": {
        "colab": {
          "base_uri": "https://localhost:8080/",
          "height": 460
        },
        "id": "1Cii3MnAVOYQ",
        "outputId": "4e7782fd-41ba-4394-b810-bf5c0901d696"
      },
      "execution_count": 223,
      "outputs": [
        {
          "output_type": "error",
          "ename": "ValueError",
          "evalue": "ignored",
          "traceback": [
            "\u001b[0;31m---------------------------------------------------------------------------\u001b[0m",
            "\u001b[0;31mValueError\u001b[0m                                Traceback (most recent call last)",
            "\u001b[0;32m<ipython-input-223-cc58ac00f467>\u001b[0m in \u001b[0;36m<module>\u001b[0;34m\u001b[0m\n\u001b[1;32m      1\u001b[0m \u001b[0;31m#상관계수\u001b[0m\u001b[0;34m\u001b[0m\u001b[0;34m\u001b[0m\u001b[0;34m\u001b[0m\u001b[0m\n\u001b[0;32m----> 2\u001b[0;31m \u001b[0mnp\u001b[0m\u001b[0;34m.\u001b[0m\u001b[0mcorrcoef\u001b[0m\u001b[0;34m(\u001b[0m\u001b[0mfat\u001b[0m\u001b[0;34m,\u001b[0m \u001b[0mbelly\u001b[0m\u001b[0;34m)\u001b[0m\u001b[0;34m\u001b[0m\u001b[0;34m\u001b[0m\u001b[0m\n\u001b[0m",
            "\u001b[0;32m<__array_function__ internals>\u001b[0m in \u001b[0;36mcorrcoef\u001b[0;34m(*args, **kwargs)\u001b[0m\n",
            "\u001b[0;32m/usr/local/lib/python3.8/dist-packages/numpy/lib/function_base.py\u001b[0m in \u001b[0;36mcorrcoef\u001b[0;34m(x, y, rowvar, bias, ddof, dtype)\u001b[0m\n\u001b[1;32m   2681\u001b[0m         warnings.warn('bias and ddof have no effect and are deprecated',\n\u001b[1;32m   2682\u001b[0m                       DeprecationWarning, stacklevel=3)\n\u001b[0;32m-> 2683\u001b[0;31m     \u001b[0mc\u001b[0m \u001b[0;34m=\u001b[0m \u001b[0mcov\u001b[0m\u001b[0;34m(\u001b[0m\u001b[0mx\u001b[0m\u001b[0;34m,\u001b[0m \u001b[0my\u001b[0m\u001b[0;34m,\u001b[0m \u001b[0mrowvar\u001b[0m\u001b[0;34m,\u001b[0m \u001b[0mdtype\u001b[0m\u001b[0;34m=\u001b[0m\u001b[0mdtype\u001b[0m\u001b[0;34m)\u001b[0m\u001b[0;34m\u001b[0m\u001b[0;34m\u001b[0m\u001b[0m\n\u001b[0m\u001b[1;32m   2684\u001b[0m     \u001b[0;32mtry\u001b[0m\u001b[0;34m:\u001b[0m\u001b[0;34m\u001b[0m\u001b[0;34m\u001b[0m\u001b[0m\n\u001b[1;32m   2685\u001b[0m         \u001b[0md\u001b[0m \u001b[0;34m=\u001b[0m \u001b[0mdiag\u001b[0m\u001b[0;34m(\u001b[0m\u001b[0mc\u001b[0m\u001b[0;34m)\u001b[0m\u001b[0;34m\u001b[0m\u001b[0;34m\u001b[0m\u001b[0m\n",
            "\u001b[0;32m<__array_function__ internals>\u001b[0m in \u001b[0;36mcov\u001b[0;34m(*args, **kwargs)\u001b[0m\n",
            "\u001b[0;32m/usr/local/lib/python3.8/dist-packages/numpy/lib/function_base.py\u001b[0m in \u001b[0;36mcov\u001b[0;34m(m, y, rowvar, bias, ddof, fweights, aweights, dtype)\u001b[0m\n\u001b[1;32m   2475\u001b[0m         \u001b[0;32mif\u001b[0m \u001b[0;32mnot\u001b[0m \u001b[0mrowvar\u001b[0m \u001b[0;32mand\u001b[0m \u001b[0my\u001b[0m\u001b[0;34m.\u001b[0m\u001b[0mshape\u001b[0m\u001b[0;34m[\u001b[0m\u001b[0;36m0\u001b[0m\u001b[0;34m]\u001b[0m \u001b[0;34m!=\u001b[0m \u001b[0;36m1\u001b[0m\u001b[0;34m:\u001b[0m\u001b[0;34m\u001b[0m\u001b[0;34m\u001b[0m\u001b[0m\n\u001b[1;32m   2476\u001b[0m             \u001b[0my\u001b[0m \u001b[0;34m=\u001b[0m \u001b[0my\u001b[0m\u001b[0;34m.\u001b[0m\u001b[0mT\u001b[0m\u001b[0;34m\u001b[0m\u001b[0;34m\u001b[0m\u001b[0m\n\u001b[0;32m-> 2477\u001b[0;31m         \u001b[0mX\u001b[0m \u001b[0;34m=\u001b[0m \u001b[0mnp\u001b[0m\u001b[0;34m.\u001b[0m\u001b[0mconcatenate\u001b[0m\u001b[0;34m(\u001b[0m\u001b[0;34m(\u001b[0m\u001b[0mX\u001b[0m\u001b[0;34m,\u001b[0m \u001b[0my\u001b[0m\u001b[0;34m)\u001b[0m\u001b[0;34m,\u001b[0m \u001b[0maxis\u001b[0m\u001b[0;34m=\u001b[0m\u001b[0;36m0\u001b[0m\u001b[0;34m)\u001b[0m\u001b[0;34m\u001b[0m\u001b[0;34m\u001b[0m\u001b[0m\n\u001b[0m\u001b[1;32m   2478\u001b[0m \u001b[0;34m\u001b[0m\u001b[0m\n\u001b[1;32m   2479\u001b[0m     \u001b[0;32mif\u001b[0m \u001b[0mddof\u001b[0m \u001b[0;32mis\u001b[0m \u001b[0;32mNone\u001b[0m\u001b[0;34m:\u001b[0m\u001b[0;34m\u001b[0m\u001b[0;34m\u001b[0m\u001b[0m\n",
            "\u001b[0;32m<__array_function__ internals>\u001b[0m in \u001b[0;36mconcatenate\u001b[0;34m(*args, **kwargs)\u001b[0m\n",
            "\u001b[0;31mValueError\u001b[0m: all the input array dimensions for the concatenation axis must match exactly, but along dimension 1, the array at index 0 has size 6420 and the array at index 1 has size 1"
          ]
        }
      ]
    },
    {
      "cell_type": "code",
      "source": [
        "#회귀분석\n",
        "from sklearn.linear_model import LinearRegression\n",
        "lr = LinearRegression()\n",
        "\n",
        "x = fat.dropna()[0]\n",
        "y = belly.dropna()[0]\n",
        "x = pd.DataFrame(x[1:6000,])\n",
        "y = pd.DataFrame(y[1:6000,])\n",
        "print(x)\n",
        "print(y)"
      ],
      "metadata": {
        "colab": {
          "base_uri": "https://localhost:8080/"
        },
        "id": "e0ovF4lzYKeD",
        "outputId": "14ee1249-3c40-4ab8-8397-8abc4f9bc8cd"
      },
      "execution_count": 143,
      "outputs": [
        {
          "output_type": "stream",
          "name": "stdout",
          "text": [
            "             0\n",
            "1     0.172733\n",
            "2     0.047651\n",
            "3     0.062210\n",
            "4     0.087359\n",
            "5     0.143614\n",
            "...        ...\n",
            "6026  0.273329\n",
            "6027  0.217075\n",
            "6028  0.234944\n",
            "6029  0.227664\n",
            "6030  0.154864\n",
            "\n",
            "[5999 rows x 1 columns]\n",
            "             0\n",
            "1     0.630216\n",
            "2     0.201439\n",
            "3     0.181295\n",
            "4     0.397122\n",
            "5     0.522302\n",
            "...        ...\n",
            "6060  0.294964\n",
            "6061  0.152518\n",
            "6062  0.211511\n",
            "6063  0.208633\n",
            "6064  0.326619\n",
            "\n",
            "[5999 rows x 1 columns]\n"
          ]
        }
      ]
    },
    {
      "cell_type": "code",
      "source": [
        "x = np.array(x)\n",
        "y = np.array(y)"
      ],
      "metadata": {
        "id": "C992u3Wrab0t"
      },
      "execution_count": 144,
      "outputs": []
    },
    {
      "cell_type": "code",
      "source": [
        "x = x.reshape(-1,1)\n",
        "y = y.reshape(-1,1)\n",
        "\n",
        "result = lr.fit(x,y)\n",
        "print(lr.coef_[0])"
      ],
      "metadata": {
        "colab": {
          "base_uri": "https://localhost:8080/"
        },
        "id": "1zXqvBE7ZNjX",
        "outputId": "95c0c175-f837-4b47-c11c-764f4b89e74a"
      },
      "execution_count": 146,
      "outputs": [
        {
          "output_type": "stream",
          "name": "stdout",
          "text": [
            "[0.09635929]\n"
          ]
        }
      ]
    },
    {
      "cell_type": "code",
      "source": [
        "x = pd.DataFrame(x)\n",
        "y = pd.DataFrame(y)\n",
        "\n",
        "y[\"x\"] = x\n",
        "y.columns = ['y', 'x']\n",
        "y"
      ],
      "metadata": {
        "colab": {
          "base_uri": "https://localhost:8080/",
          "height": 419
        },
        "id": "z1gETD5ye3Et",
        "outputId": "4cbf3ab6-75df-4818-c3c0-4855fb1b38fd"
      },
      "execution_count": 165,
      "outputs": [
        {
          "output_type": "execute_result",
          "data": {
            "text/plain": [
              "             y         x\n",
              "0     0.630216  0.172733\n",
              "1     0.201439  0.047651\n",
              "2     0.181295  0.062210\n",
              "3     0.397122  0.087359\n",
              "4     0.522302  0.143614\n",
              "...        ...       ...\n",
              "5994  0.294964  0.273329\n",
              "5995  0.152518  0.217075\n",
              "5996  0.211511  0.234944\n",
              "5997  0.208633  0.227664\n",
              "5998  0.326619  0.154864\n",
              "\n",
              "[5999 rows x 2 columns]"
            ],
            "text/html": [
              "\n",
              "  <div id=\"df-099e1e59-417c-47d1-8cf7-d0249e11640b\">\n",
              "    <div class=\"colab-df-container\">\n",
              "      <div>\n",
              "<style scoped>\n",
              "    .dataframe tbody tr th:only-of-type {\n",
              "        vertical-align: middle;\n",
              "    }\n",
              "\n",
              "    .dataframe tbody tr th {\n",
              "        vertical-align: top;\n",
              "    }\n",
              "\n",
              "    .dataframe thead th {\n",
              "        text-align: right;\n",
              "    }\n",
              "</style>\n",
              "<table border=\"1\" class=\"dataframe\">\n",
              "  <thead>\n",
              "    <tr style=\"text-align: right;\">\n",
              "      <th></th>\n",
              "      <th>y</th>\n",
              "      <th>x</th>\n",
              "    </tr>\n",
              "  </thead>\n",
              "  <tbody>\n",
              "    <tr>\n",
              "      <th>0</th>\n",
              "      <td>0.630216</td>\n",
              "      <td>0.172733</td>\n",
              "    </tr>\n",
              "    <tr>\n",
              "      <th>1</th>\n",
              "      <td>0.201439</td>\n",
              "      <td>0.047651</td>\n",
              "    </tr>\n",
              "    <tr>\n",
              "      <th>2</th>\n",
              "      <td>0.181295</td>\n",
              "      <td>0.062210</td>\n",
              "    </tr>\n",
              "    <tr>\n",
              "      <th>3</th>\n",
              "      <td>0.397122</td>\n",
              "      <td>0.087359</td>\n",
              "    </tr>\n",
              "    <tr>\n",
              "      <th>4</th>\n",
              "      <td>0.522302</td>\n",
              "      <td>0.143614</td>\n",
              "    </tr>\n",
              "    <tr>\n",
              "      <th>...</th>\n",
              "      <td>...</td>\n",
              "      <td>...</td>\n",
              "    </tr>\n",
              "    <tr>\n",
              "      <th>5994</th>\n",
              "      <td>0.294964</td>\n",
              "      <td>0.273329</td>\n",
              "    </tr>\n",
              "    <tr>\n",
              "      <th>5995</th>\n",
              "      <td>0.152518</td>\n",
              "      <td>0.217075</td>\n",
              "    </tr>\n",
              "    <tr>\n",
              "      <th>5996</th>\n",
              "      <td>0.211511</td>\n",
              "      <td>0.234944</td>\n",
              "    </tr>\n",
              "    <tr>\n",
              "      <th>5997</th>\n",
              "      <td>0.208633</td>\n",
              "      <td>0.227664</td>\n",
              "    </tr>\n",
              "    <tr>\n",
              "      <th>5998</th>\n",
              "      <td>0.326619</td>\n",
              "      <td>0.154864</td>\n",
              "    </tr>\n",
              "  </tbody>\n",
              "</table>\n",
              "<p>5999 rows × 2 columns</p>\n",
              "</div>\n",
              "      <button class=\"colab-df-convert\" onclick=\"convertToInteractive('df-099e1e59-417c-47d1-8cf7-d0249e11640b')\"\n",
              "              title=\"Convert this dataframe to an interactive table.\"\n",
              "              style=\"display:none;\">\n",
              "        \n",
              "  <svg xmlns=\"http://www.w3.org/2000/svg\" height=\"24px\"viewBox=\"0 0 24 24\"\n",
              "       width=\"24px\">\n",
              "    <path d=\"M0 0h24v24H0V0z\" fill=\"none\"/>\n",
              "    <path d=\"M18.56 5.44l.94 2.06.94-2.06 2.06-.94-2.06-.94-.94-2.06-.94 2.06-2.06.94zm-11 1L8.5 8.5l.94-2.06 2.06-.94-2.06-.94L8.5 2.5l-.94 2.06-2.06.94zm10 10l.94 2.06.94-2.06 2.06-.94-2.06-.94-.94-2.06-.94 2.06-2.06.94z\"/><path d=\"M17.41 7.96l-1.37-1.37c-.4-.4-.92-.59-1.43-.59-.52 0-1.04.2-1.43.59L10.3 9.45l-7.72 7.72c-.78.78-.78 2.05 0 2.83L4 21.41c.39.39.9.59 1.41.59.51 0 1.02-.2 1.41-.59l7.78-7.78 2.81-2.81c.8-.78.8-2.07 0-2.86zM5.41 20L4 18.59l7.72-7.72 1.47 1.35L5.41 20z\"/>\n",
              "  </svg>\n",
              "      </button>\n",
              "      \n",
              "  <style>\n",
              "    .colab-df-container {\n",
              "      display:flex;\n",
              "      flex-wrap:wrap;\n",
              "      gap: 12px;\n",
              "    }\n",
              "\n",
              "    .colab-df-convert {\n",
              "      background-color: #E8F0FE;\n",
              "      border: none;\n",
              "      border-radius: 50%;\n",
              "      cursor: pointer;\n",
              "      display: none;\n",
              "      fill: #1967D2;\n",
              "      height: 32px;\n",
              "      padding: 0 0 0 0;\n",
              "      width: 32px;\n",
              "    }\n",
              "\n",
              "    .colab-df-convert:hover {\n",
              "      background-color: #E2EBFA;\n",
              "      box-shadow: 0px 1px 2px rgba(60, 64, 67, 0.3), 0px 1px 3px 1px rgba(60, 64, 67, 0.15);\n",
              "      fill: #174EA6;\n",
              "    }\n",
              "\n",
              "    [theme=dark] .colab-df-convert {\n",
              "      background-color: #3B4455;\n",
              "      fill: #D2E3FC;\n",
              "    }\n",
              "\n",
              "    [theme=dark] .colab-df-convert:hover {\n",
              "      background-color: #434B5C;\n",
              "      box-shadow: 0px 1px 3px 1px rgba(0, 0, 0, 0.15);\n",
              "      filter: drop-shadow(0px 1px 2px rgba(0, 0, 0, 0.3));\n",
              "      fill: #FFFFFF;\n",
              "    }\n",
              "  </style>\n",
              "\n",
              "      <script>\n",
              "        const buttonEl =\n",
              "          document.querySelector('#df-099e1e59-417c-47d1-8cf7-d0249e11640b button.colab-df-convert');\n",
              "        buttonEl.style.display =\n",
              "          google.colab.kernel.accessAllowed ? 'block' : 'none';\n",
              "\n",
              "        async function convertToInteractive(key) {\n",
              "          const element = document.querySelector('#df-099e1e59-417c-47d1-8cf7-d0249e11640b');\n",
              "          const dataTable =\n",
              "            await google.colab.kernel.invokeFunction('convertToInteractive',\n",
              "                                                     [key], {});\n",
              "          if (!dataTable) return;\n",
              "\n",
              "          const docLinkHtml = 'Like what you see? Visit the ' +\n",
              "            '<a target=\"_blank\" href=https://colab.research.google.com/notebooks/data_table.ipynb>data table notebook</a>'\n",
              "            + ' to learn more about interactive tables.';\n",
              "          element.innerHTML = '';\n",
              "          dataTable['output_type'] = 'display_data';\n",
              "          await google.colab.output.renderOutput(dataTable, element);\n",
              "          const docLink = document.createElement('div');\n",
              "          docLink.innerHTML = docLinkHtml;\n",
              "          element.appendChild(docLink);\n",
              "        }\n",
              "      </script>\n",
              "    </div>\n",
              "  </div>\n",
              "  "
            ]
          },
          "metadata": {},
          "execution_count": 165
        }
      ]
    },
    {
      "cell_type": "code",
      "source": [
        "res = ols('y ~ x', data= y).fit()\n",
        "res.summary()"
      ],
      "metadata": {
        "colab": {
          "base_uri": "https://localhost:8080/",
          "height": 444
        },
        "id": "oeD0qFf_fJrf",
        "outputId": "42d30c79-20ef-4d55-fc77-f7969762297f"
      },
      "execution_count": 168,
      "outputs": [
        {
          "output_type": "execute_result",
          "data": {
            "text/plain": [
              "<class 'statsmodels.iolib.summary.Summary'>\n",
              "\"\"\"\n",
              "                            OLS Regression Results                            \n",
              "==============================================================================\n",
              "Dep. Variable:                      y   R-squared:                       0.002\n",
              "Model:                            OLS   Adj. R-squared:                  0.002\n",
              "Method:                 Least Squares   F-statistic:                     11.93\n",
              "Date:                Wed, 04 Jan 2023   Prob (F-statistic):           0.000556\n",
              "Time:                        01:59:53   Log-Likelihood:                 4114.2\n",
              "No. Observations:                5999   AIC:                            -8224.\n",
              "Df Residuals:                    5997   BIC:                            -8211.\n",
              "Df Model:                           1                                         \n",
              "Covariance Type:            nonrobust                                         \n",
              "==============================================================================\n",
              "                 coef    std err          t      P>|t|      [0.025      0.975]\n",
              "------------------------------------------------------------------------------\n",
              "Intercept      0.3080      0.005     66.855      0.000       0.299       0.317\n",
              "x              0.0964      0.028      3.454      0.001       0.042       0.151\n",
              "==============================================================================\n",
              "Omnibus:                      114.764   Durbin-Watson:                   1.601\n",
              "Prob(Omnibus):                  0.000   Jarque-Bera (JB):              105.789\n",
              "Skew:                           0.281   Prob(JB):                     1.07e-23\n",
              "Kurtosis:                       2.671   Cond. No.                         18.2\n",
              "==============================================================================\n",
              "\n",
              "Notes:\n",
              "[1] Standard Errors assume that the covariance matrix of the errors is correctly specified.\n",
              "\"\"\""
            ],
            "text/html": [
              "<table class=\"simpletable\">\n",
              "<caption>OLS Regression Results</caption>\n",
              "<tr>\n",
              "  <th>Dep. Variable:</th>            <td>y</td>        <th>  R-squared:         </th> <td>   0.002</td>\n",
              "</tr>\n",
              "<tr>\n",
              "  <th>Model:</th>                   <td>OLS</td>       <th>  Adj. R-squared:    </th> <td>   0.002</td>\n",
              "</tr>\n",
              "<tr>\n",
              "  <th>Method:</th>             <td>Least Squares</td>  <th>  F-statistic:       </th> <td>   11.93</td>\n",
              "</tr>\n",
              "<tr>\n",
              "  <th>Date:</th>             <td>Wed, 04 Jan 2023</td> <th>  Prob (F-statistic):</th> <td>0.000556</td>\n",
              "</tr>\n",
              "<tr>\n",
              "  <th>Time:</th>                 <td>01:59:53</td>     <th>  Log-Likelihood:    </th> <td>  4114.2</td>\n",
              "</tr>\n",
              "<tr>\n",
              "  <th>No. Observations:</th>      <td>  5999</td>      <th>  AIC:               </th> <td>  -8224.</td>\n",
              "</tr>\n",
              "<tr>\n",
              "  <th>Df Residuals:</th>          <td>  5997</td>      <th>  BIC:               </th> <td>  -8211.</td>\n",
              "</tr>\n",
              "<tr>\n",
              "  <th>Df Model:</th>              <td>     1</td>      <th>                     </th>     <td> </td>   \n",
              "</tr>\n",
              "<tr>\n",
              "  <th>Covariance Type:</th>      <td>nonrobust</td>    <th>                     </th>     <td> </td>   \n",
              "</tr>\n",
              "</table>\n",
              "<table class=\"simpletable\">\n",
              "<tr>\n",
              "      <td></td>         <th>coef</th>     <th>std err</th>      <th>t</th>      <th>P>|t|</th>  <th>[0.025</th>    <th>0.975]</th>  \n",
              "</tr>\n",
              "<tr>\n",
              "  <th>Intercept</th> <td>    0.3080</td> <td>    0.005</td> <td>   66.855</td> <td> 0.000</td> <td>    0.299</td> <td>    0.317</td>\n",
              "</tr>\n",
              "<tr>\n",
              "  <th>x</th>         <td>    0.0964</td> <td>    0.028</td> <td>    3.454</td> <td> 0.001</td> <td>    0.042</td> <td>    0.151</td>\n",
              "</tr>\n",
              "</table>\n",
              "<table class=\"simpletable\">\n",
              "<tr>\n",
              "  <th>Omnibus:</th>       <td>114.764</td> <th>  Durbin-Watson:     </th> <td>   1.601</td>\n",
              "</tr>\n",
              "<tr>\n",
              "  <th>Prob(Omnibus):</th> <td> 0.000</td>  <th>  Jarque-Bera (JB):  </th> <td> 105.789</td>\n",
              "</tr>\n",
              "<tr>\n",
              "  <th>Skew:</th>          <td> 0.281</td>  <th>  Prob(JB):          </th> <td>1.07e-23</td>\n",
              "</tr>\n",
              "<tr>\n",
              "  <th>Kurtosis:</th>      <td> 2.671</td>  <th>  Cond. No.          </th> <td>    18.2</td>\n",
              "</tr>\n",
              "</table><br/><br/>Notes:<br/>[1] Standard Errors assume that the covariance matrix of the errors is correctly specified."
            ]
          },
          "metadata": {},
          "execution_count": 168
        }
      ]
    },
    {
      "cell_type": "markdown",
      "source": [
        "#연령대 별로 체지방률이 다를까? </br>\n",
        ": 내 생각엔 나이가 많을 수록 높을 것 같다."
      ],
      "metadata": {
        "id": "lK2aZ8kPgmQO"
      }
    },
    {
      "cell_type": "markdown",
      "source": [
        "일단 데이터를 불러와준 뒤 나이대 별로 집합을 나눠주자"
      ],
      "metadata": {
        "id": "eVHroQAO_8gb"
      }
    },
    {
      "cell_type": "code",
      "source": [
        "fat_age = pd.DataFrame(body_df[[\"ⓞ_06_나이_반올림\",\"ⓞ_18_체지방율\"]])\n",
        "age = fat_age[\"ⓞ_06_나이_반올림\"]\n",
        "fat = fat_age[\"ⓞ_18_체지방율\"]\n",
        "\n",
        "\n",
        "fat_10 = fat_age[(age>=10)&(age<20)]\n",
        "fat_20 = fat_age[(age>=20)&(age<30)]\n",
        "fat_30 = fat_age[(age>=30)&(age<40)]\n",
        "fat_40 = fat_age[(age>=40)&(age<50)]\n",
        "fat_50 = fat_age[(age>=50)&(age<60)]\n",
        "fat_60 = fat_age[(age>=60)&(age<70)]\n",
        "\n",
        "fat_10.columns = [\"age\", \"fat\"]\n",
        "fat_20.columns = [\"age\", \"fat\"]\n",
        "fat_30.columns = [\"age\", \"fat\"]\n",
        "fat_40.columns = [\"age\", \"fat\"]\n",
        "fat_50.columns = [\"age\", \"fat\"]\n",
        "fat_60.columns = [\"age\", \"fat\"]\n"
      ],
      "metadata": {
        "id": "dRSTTxQJgvEh"
      },
      "execution_count": 212,
      "outputs": []
    },
    {
      "cell_type": "markdown",
      "source": [
        "결측값을 제거해줍시다."
      ],
      "metadata": {
        "id": "uNmNXTKnAGL1"
      }
    },
    {
      "cell_type": "code",
      "source": [
        "#NaN\n",
        "fat_10 = fat_10.dropna(axis=0)\n",
        "fat_20 = fat_20.dropna(axis=0)\n",
        "fat_30 = fat_30.dropna(axis=0)\n",
        "fat_40 = fat_40.dropna(axis=0)\n",
        "fat_50 = fat_50.dropna(axis=0)\n",
        "fat_60 = fat_60.dropna(axis=0)\n",
        "\n",
        "print(fat_10.isnull().sum())\n",
        "print(fat_20.isnull().sum())\n",
        "print(fat_30.isnull().sum())\n",
        "print(fat_40.isnull().sum())\n",
        "print(fat_50.isnull().sum())\n",
        "print(fat_60.isnull().sum())"
      ],
      "metadata": {
        "id": "KxwWCPwj1kop"
      },
      "execution_count": null,
      "outputs": []
    },
    {
      "cell_type": "markdown",
      "source": [
        "연령대 별로 범주 코딩해주기"
      ],
      "metadata": {
        "id": "HDbCRMdaAKd-"
      }
    },
    {
      "cell_type": "code",
      "source": [
        "#연령대 coding\n",
        "fat_10[\"연령대\"] = 10\n",
        "fat_20[\"연령대\"] = 20\n",
        "fat_30[\"연령대\"] = 30\n",
        "fat_40[\"연령대\"] = 40\n",
        "fat_50[\"연령대\"] = 50\n",
        "fat_60[\"연령대\"] = 60"
      ],
      "metadata": {
        "id": "C9FZE-G96ZbG"
      },
      "execution_count": 226,
      "outputs": []
    },
    {
      "cell_type": "code",
      "source": [
        "#합쳐주기\n",
        "fat_age = pd.concat([fat_10, fat_20, fat_30, fat_40, fat_50, fat_60])"
      ],
      "metadata": {
        "id": "gBCS0PEF636K"
      },
      "execution_count": 244,
      "outputs": []
    },
    {
      "cell_type": "markdown",
      "source": [
        "일단 등분산을 검정해봅시다."
      ],
      "metadata": {
        "id": "XnK3aQ_dAYWl"
      }
    },
    {
      "cell_type": "code",
      "source": [
        "#등분산검정\n",
        "sp.stats.levene(fat_10[\"fat\"], fat_20[\"fat\"], fat_30[\"fat\"], fat_40[\"fat\"], fat_50[\"fat\"], fat_60[\"fat\"])"
      ],
      "metadata": {
        "colab": {
          "base_uri": "https://localhost:8080/"
        },
        "id": "wdHcDamFk0l0",
        "outputId": "1836f8ae-f595-422b-a880-aa978012467e"
      },
      "execution_count": 231,
      "outputs": [
        {
          "output_type": "execute_result",
          "data": {
            "text/plain": [
              "LeveneResult(statistic=34.61853183337501, pvalue=4.848505944690565e-35)"
            ]
          },
          "metadata": {},
          "execution_count": 231
        }
      ]
    },
    {
      "cell_type": "markdown",
      "source": [
        "등분산검정 결과, pvalue=4.848505944690565e-35로 등분산이 아닌걸로 밝혀졌다. </br>\n",
        "등분산이 아니므로 아래에선 welch 분산 분석을 하도록하자."
      ],
      "metadata": {
        "id": "TUDx29jH8c4W"
      }
    },
    {
      "cell_type": "code",
      "source": [
        "#ANOVA\n",
        "pg.welch_anova(dv=\"fat\", between=\"연령대\", data = fat_age)"
      ],
      "metadata": {
        "colab": {
          "base_uri": "https://localhost:8080/",
          "height": 80
        },
        "id": "hEaDel7i3cWk",
        "outputId": "06b7a3d6-7a60-4c6e-856c-0ecb9b8c3a48"
      },
      "execution_count": 245,
      "outputs": [
        {
          "output_type": "execute_result",
          "data": {
            "text/plain": [
              "  Source  ddof1        ddof2          F         p-unc       np2\n",
              "0    연령대      5  1935.016699  69.028919  1.461123e-66  0.048121"
            ],
            "text/html": [
              "\n",
              "  <div id=\"df-9e001fe6-27be-48dd-9cd6-e571074d7310\">\n",
              "    <div class=\"colab-df-container\">\n",
              "      <div>\n",
              "<style scoped>\n",
              "    .dataframe tbody tr th:only-of-type {\n",
              "        vertical-align: middle;\n",
              "    }\n",
              "\n",
              "    .dataframe tbody tr th {\n",
              "        vertical-align: top;\n",
              "    }\n",
              "\n",
              "    .dataframe thead th {\n",
              "        text-align: right;\n",
              "    }\n",
              "</style>\n",
              "<table border=\"1\" class=\"dataframe\">\n",
              "  <thead>\n",
              "    <tr style=\"text-align: right;\">\n",
              "      <th></th>\n",
              "      <th>Source</th>\n",
              "      <th>ddof1</th>\n",
              "      <th>ddof2</th>\n",
              "      <th>F</th>\n",
              "      <th>p-unc</th>\n",
              "      <th>np2</th>\n",
              "    </tr>\n",
              "  </thead>\n",
              "  <tbody>\n",
              "    <tr>\n",
              "      <th>0</th>\n",
              "      <td>연령대</td>\n",
              "      <td>5</td>\n",
              "      <td>1935.016699</td>\n",
              "      <td>69.028919</td>\n",
              "      <td>1.461123e-66</td>\n",
              "      <td>0.048121</td>\n",
              "    </tr>\n",
              "  </tbody>\n",
              "</table>\n",
              "</div>\n",
              "      <button class=\"colab-df-convert\" onclick=\"convertToInteractive('df-9e001fe6-27be-48dd-9cd6-e571074d7310')\"\n",
              "              title=\"Convert this dataframe to an interactive table.\"\n",
              "              style=\"display:none;\">\n",
              "        \n",
              "  <svg xmlns=\"http://www.w3.org/2000/svg\" height=\"24px\"viewBox=\"0 0 24 24\"\n",
              "       width=\"24px\">\n",
              "    <path d=\"M0 0h24v24H0V0z\" fill=\"none\"/>\n",
              "    <path d=\"M18.56 5.44l.94 2.06.94-2.06 2.06-.94-2.06-.94-.94-2.06-.94 2.06-2.06.94zm-11 1L8.5 8.5l.94-2.06 2.06-.94-2.06-.94L8.5 2.5l-.94 2.06-2.06.94zm10 10l.94 2.06.94-2.06 2.06-.94-2.06-.94-.94-2.06-.94 2.06-2.06.94z\"/><path d=\"M17.41 7.96l-1.37-1.37c-.4-.4-.92-.59-1.43-.59-.52 0-1.04.2-1.43.59L10.3 9.45l-7.72 7.72c-.78.78-.78 2.05 0 2.83L4 21.41c.39.39.9.59 1.41.59.51 0 1.02-.2 1.41-.59l7.78-7.78 2.81-2.81c.8-.78.8-2.07 0-2.86zM5.41 20L4 18.59l7.72-7.72 1.47 1.35L5.41 20z\"/>\n",
              "  </svg>\n",
              "      </button>\n",
              "      \n",
              "  <style>\n",
              "    .colab-df-container {\n",
              "      display:flex;\n",
              "      flex-wrap:wrap;\n",
              "      gap: 12px;\n",
              "    }\n",
              "\n",
              "    .colab-df-convert {\n",
              "      background-color: #E8F0FE;\n",
              "      border: none;\n",
              "      border-radius: 50%;\n",
              "      cursor: pointer;\n",
              "      display: none;\n",
              "      fill: #1967D2;\n",
              "      height: 32px;\n",
              "      padding: 0 0 0 0;\n",
              "      width: 32px;\n",
              "    }\n",
              "\n",
              "    .colab-df-convert:hover {\n",
              "      background-color: #E2EBFA;\n",
              "      box-shadow: 0px 1px 2px rgba(60, 64, 67, 0.3), 0px 1px 3px 1px rgba(60, 64, 67, 0.15);\n",
              "      fill: #174EA6;\n",
              "    }\n",
              "\n",
              "    [theme=dark] .colab-df-convert {\n",
              "      background-color: #3B4455;\n",
              "      fill: #D2E3FC;\n",
              "    }\n",
              "\n",
              "    [theme=dark] .colab-df-convert:hover {\n",
              "      background-color: #434B5C;\n",
              "      box-shadow: 0px 1px 3px 1px rgba(0, 0, 0, 0.15);\n",
              "      filter: drop-shadow(0px 1px 2px rgba(0, 0, 0, 0.3));\n",
              "      fill: #FFFFFF;\n",
              "    }\n",
              "  </style>\n",
              "\n",
              "      <script>\n",
              "        const buttonEl =\n",
              "          document.querySelector('#df-9e001fe6-27be-48dd-9cd6-e571074d7310 button.colab-df-convert');\n",
              "        buttonEl.style.display =\n",
              "          google.colab.kernel.accessAllowed ? 'block' : 'none';\n",
              "\n",
              "        async function convertToInteractive(key) {\n",
              "          const element = document.querySelector('#df-9e001fe6-27be-48dd-9cd6-e571074d7310');\n",
              "          const dataTable =\n",
              "            await google.colab.kernel.invokeFunction('convertToInteractive',\n",
              "                                                     [key], {});\n",
              "          if (!dataTable) return;\n",
              "\n",
              "          const docLinkHtml = 'Like what you see? Visit the ' +\n",
              "            '<a target=\"_blank\" href=https://colab.research.google.com/notebooks/data_table.ipynb>data table notebook</a>'\n",
              "            + ' to learn more about interactive tables.';\n",
              "          element.innerHTML = '';\n",
              "          dataTable['output_type'] = 'display_data';\n",
              "          await google.colab.output.renderOutput(dataTable, element);\n",
              "          const docLink = document.createElement('div');\n",
              "          docLink.innerHTML = docLinkHtml;\n",
              "          element.appendChild(docLink);\n",
              "        }\n",
              "      </script>\n",
              "    </div>\n",
              "  </div>\n",
              "  "
            ]
          },
          "metadata": {},
          "execution_count": 245
        }
      ]
    },
    {
      "cell_type": "markdown",
      "source": [
        "p-value: 1.461123e-66으로 다른 것으로 확인 되었다. 그렇다면 연령대가 높을 수록 체지방률도 높을까?"
      ],
      "metadata": {
        "id": "Y89xwZnr8Rd3"
      }
    },
    {
      "cell_type": "markdown",
      "source": [
        "### 나이 먹을수록 살찌는게 사실일까?..."
      ],
      "metadata": {
        "id": "wXD0PjSZ_YbE"
      }
    },
    {
      "cell_type": "markdown",
      "source": [
        "일단 산점도를 살펴보자."
      ],
      "metadata": {
        "id": "lz9M2dNz_5ML"
      }
    },
    {
      "cell_type": "code",
      "source": [
        "#scatter\n",
        "plt.scatter(fat_age[\"age\"], fat_age[\"fat\"], alpha=0.3)\n",
        "plt.title('age ~ fat')\n",
        "plt.xlabel('age')\n",
        "plt.ylabel('fat')\n",
        "plt.show()"
      ],
      "metadata": {
        "colab": {
          "base_uri": "https://localhost:8080/",
          "height": 295
        },
        "id": "yId0SgN9_i_j",
        "outputId": "61340b66-0cd2-4609-f4f7-0147496562d3"
      },
      "execution_count": 249,
      "outputs": [
        {
          "output_type": "display_data",
          "data": {
            "text/plain": [
              "<Figure size 432x288 with 1 Axes>"
            ],
            "image/png": "[encoded data removed]"
          },
          "metadata": {
            "needs_background": "light"
          }
        }
      ]
    },
    {
      "cell_type": "markdown",
      "source": [
        "있어보인다,, 아주 살짝 우상향향? </br>\n",
        "바로 회귀분석 해보겠음."
      ],
      "metadata": {
        "id": "sdePTOr9BkUt"
      }
    },
    {
      "cell_type": "code",
      "source": [
        "#회귀분석\n",
        "x = fat_age[\"age\"]\n",
        "y = fat_age[\"fat\"]\n",
        "\n",
        "res = ols('y ~ x', data= fat_age).fit()\n",
        "res.summary()"
      ],
      "metadata": {
        "colab": {
          "base_uri": "https://localhost:8080/",
          "height": 444
        },
        "id": "LIA1I9XGBXnQ",
        "outputId": "84d1bfb2-1e1f-43d2-95d8-97d65c5da3a7"
      },
      "execution_count": 251,
      "outputs": [
        {
          "output_type": "execute_result",
          "data": {
            "text/plain": [
              "<class 'statsmodels.iolib.summary.Summary'>\n",
              "\"\"\"\n",
              "                            OLS Regression Results                            \n",
              "==============================================================================\n",
              "Dep. Variable:                      y   R-squared:                       0.048\n",
              "Model:                            OLS   Adj. R-squared:                  0.047\n",
              "Method:                 Least Squares   F-statistic:                     319.2\n",
              "Date:                Wed, 04 Jan 2023   Prob (F-statistic):           1.03e-69\n",
              "Time:                        04:27:13   Log-Likelihood:                -22830.\n",
              "No. Observations:                6402   AIC:                         4.566e+04\n",
              "Df Residuals:                    6400   BIC:                         4.568e+04\n",
              "Df Model:                           1                                         \n",
              "Covariance Type:            nonrobust                                         \n",
              "==============================================================================\n",
              "                 coef    std err          t      P>|t|      [0.025      0.975]\n",
              "------------------------------------------------------------------------------\n",
              "Intercept     20.6546      0.257     80.439      0.000      20.151      21.158\n",
              "x              0.1329      0.007     17.867      0.000       0.118       0.148\n",
              "==============================================================================\n",
              "Omnibus:                     1263.597   Durbin-Watson:                   1.139\n",
              "Prob(Omnibus):                  0.000   Jarque-Bera (JB):            14201.038\n",
              "Skew:                           0.615   Prob(JB):                         0.00\n",
              "Kurtosis:                      10.192   Cond. No.                         82.9\n",
              "==============================================================================\n",
              "\n",
              "Notes:\n",
              "[1] Standard Errors assume that the covariance matrix of the errors is correctly specified.\n",
              "\"\"\""
            ],
            "text/html": [
              "<table class=\"simpletable\">\n",
              "<caption>OLS Regression Results</caption>\n",
              "<tr>\n",
              "  <th>Dep. Variable:</th>            <td>y</td>        <th>  R-squared:         </th> <td>   0.048</td> \n",
              "</tr>\n",
              "<tr>\n",
              "  <th>Model:</th>                   <td>OLS</td>       <th>  Adj. R-squared:    </th> <td>   0.047</td> \n",
              "</tr>\n",
              "<tr>\n",
              "  <th>Method:</th>             <td>Least Squares</td>  <th>  F-statistic:       </th> <td>   319.2</td> \n",
              "</tr>\n",
              "<tr>\n",
              "  <th>Date:</th>             <td>Wed, 04 Jan 2023</td> <th>  Prob (F-statistic):</th> <td>1.03e-69</td> \n",
              "</tr>\n",
              "<tr>\n",
              "  <th>Time:</th>                 <td>04:27:13</td>     <th>  Log-Likelihood:    </th> <td> -22830.</td> \n",
              "</tr>\n",
              "<tr>\n",
              "  <th>No. Observations:</th>      <td>  6402</td>      <th>  AIC:               </th> <td>4.566e+04</td>\n",
              "</tr>\n",
              "<tr>\n",
              "  <th>Df Residuals:</th>          <td>  6400</td>      <th>  BIC:               </th> <td>4.568e+04</td>\n",
              "</tr>\n",
              "<tr>\n",
              "  <th>Df Model:</th>              <td>     1</td>      <th>                     </th>     <td> </td>    \n",
              "</tr>\n",
              "<tr>\n",
              "  <th>Covariance Type:</th>      <td>nonrobust</td>    <th>                     </th>     <td> </td>    \n",
              "</tr>\n",
              "</table>\n",
              "<table class=\"simpletable\">\n",
              "<tr>\n",
              "      <td></td>         <th>coef</th>     <th>std err</th>      <th>t</th>      <th>P>|t|</th>  <th>[0.025</th>    <th>0.975]</th>  \n",
              "</tr>\n",
              "<tr>\n",
              "  <th>Intercept</th> <td>   20.6546</td> <td>    0.257</td> <td>   80.439</td> <td> 0.000</td> <td>   20.151</td> <td>   21.158</td>\n",
              "</tr>\n",
              "<tr>\n",
              "  <th>x</th>         <td>    0.1329</td> <td>    0.007</td> <td>   17.867</td> <td> 0.000</td> <td>    0.118</td> <td>    0.148</td>\n",
              "</tr>\n",
              "</table>\n",
              "<table class=\"simpletable\">\n",
              "<tr>\n",
              "  <th>Omnibus:</th>       <td>1263.597</td> <th>  Durbin-Watson:     </th> <td>   1.139</td> \n",
              "</tr>\n",
              "<tr>\n",
              "  <th>Prob(Omnibus):</th>  <td> 0.000</td>  <th>  Jarque-Bera (JB):  </th> <td>14201.038</td>\n",
              "</tr>\n",
              "<tr>\n",
              "  <th>Skew:</th>           <td> 0.615</td>  <th>  Prob(JB):          </th> <td>    0.00</td> \n",
              "</tr>\n",
              "<tr>\n",
              "  <th>Kurtosis:</th>       <td>10.192</td>  <th>  Cond. No.          </th> <td>    82.9</td> \n",
              "</tr>\n",
              "</table><br/><br/>Notes:<br/>[1] Standard Errors assume that the covariance matrix of the errors is correctly specified."
            ]
          },
          "metadata": {},
          "execution_count": 251
        }
      ]
    },
    {
      "cell_type": "markdown",
      "source": [
        "회귀분석 결과 회귀계수 0.1329로 나왔다, </br>\n",
        "아주 조금이지만, 나이살이 있는 듯 하다...</br>\n",
        "그래프로 확인사살 해보자."
      ],
      "metadata": {
        "id": "Y3TbOHTICZJ1"
      }
    },
    {
      "cell_type": "code",
      "source": [
        "#liner graph\n",
        "x = fat_age[\"age\"]\n",
        "y = fat_age[\"fat\"]\n",
        "plt.scatter(x, y, alpha=0.1)\n",
        "plt.title('age ~ fat')\n",
        "plt.xlabel('age')\n",
        "plt.ylabel('fat')\n",
        "\n",
        "m, b = np.polyfit(x, y, 1)\n",
        "plt.plot(x, m*x+b, color='limegreen')\n",
        "plt.show()"
      ],
      "metadata": {
        "colab": {
          "base_uri": "https://localhost:8080/",
          "height": 295
        },
        "id": "DkgSzKorEZnT",
        "outputId": "723f3161-f278-4643-ab36-2d95cb249808"
      },
      "execution_count": 269,
      "outputs": [
        {
          "output_type": "display_data",
          "data": {
            "text/plain": [
              "<Figure size 432x288 with 1 Axes>"
            ],
            "image/png": "[encoded data removed]"
          },
          "metadata": {
            "needs_background": "light"
          }
        }
      ]
    },
    {
      "cell_type": "markdown",
      "source": [
        "확인사살 완료."
      ],
      "metadata": {
        "id": "ca8HhUdqFuiu"
      }
    }
  ]
}